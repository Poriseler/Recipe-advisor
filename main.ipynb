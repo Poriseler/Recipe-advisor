{
 "cells": [
  {
   "cell_type": "code",
   "execution_count": 14,
   "id": "e5d8e3d5-0aaa-4cd8-b1cf-776730e66f40",
   "metadata": {},
   "outputs": [],
   "source": [
    "documents = [\n",
    "    'Italian Lasagna - Layers of pasta, meat sauce, and cheese baked to perfection.',\n",
    "'Japanese Sushi Rolls - Rice, seaweed, and various fillings like fish, avocado, and cucumber.',\n",
    "'Mexican Enchiladas - Tortillas filled with meat or beans, topped with sauce and cheese.',\n",
    "'Indian Butter Chicken - Chicken cooked in a creamy tomato sauce with spices.',\n",
    "'French Ratatouille - A vegetable stew with eggplant, zucchini, and tomatoes.',\n",
    "'Greek Moussaka - Layers of eggplant, meat sauce, and béchamel sauce.',\n",
    "'Chinese Sweet and Sour Pork - Pork stir-fried with a tangy sweet and sour sauce.',\n",
    "'American BBQ Ribs - Pork ribs slow-cooked and slathered in BBQ sauce.',\n",
    "'Thai Green Curry - A spicy curry with coconut milk, green curry paste, and vegetables.',\n",
    "'Spanish Paella - A rice dish with seafood, chicken, and saffron.',\n",
    "'Moroccan Tagine - A slow-cooked stew with meat, vegetables, and spices.',\n",
    "'Lebanese Falafel - Deep-fried balls made from chickpeas, served with pita and tahini.',\n",
    "'Korean Bibimbap - A mixed rice dish with vegetables, meat, and a fried egg.',\n",
    "'Turkish Kebabs - Grilled skewers of meat, often served with rice or bread.',\n",
    "'Vietnamese Pho - A noodle soup with beef or chicken, herbs, and broth.',\n",
    "'Brazilian Feijoada - A black bean stew with pork and beef.',\n",
    "'Ethiopian Doro Wat - A spicy chicken stew served with injera bread.',\n",
    "'Russian Beef Stroganoff - Beef in a creamy sauce with mushrooms, served over noodles.',\n",
    "'Caribbean Jerk Chicken - Chicken marinated in a spicy jerk seasoning and grilled.',\n",
    "'Middle Eastern Shakshuka - Eggs poached in a spicy tomato and pepper sauce.',\n",
    "'Spicy Thai Basil Chicken - A flavorful stir-fry with chicken, basil, and a spicy sauce.',\n",
    "'Creamy Garlic Parmesan Pasta - A rich and creamy pasta dish with garlic and Parmesan cheese.',\n",
    "'Vegetarian Stuffed Peppers - Bell peppers stuffed with quinoa, black beans, and veggies.',\n",
    "'Classic Beef Tacos - Ground beef tacos with all the traditional toppings.',\n",
    "'Lemon Herb Grilled Salmon - Salmon fillets marinated in lemon and herbs, then grilled to perfection.',\n",
    "'Butternut Squash Soup - A creamy and comforting soup made with roasted butternut squash.',\n",
    "'Chicken Alfredo - A creamy pasta dish with chicken and Alfredo sauce.',\n",
    "'Mango Avocado Salad - A refreshing salad with mango, avocado, and a lime dressing.',\n",
    "'BBQ Pulled Pork Sandwiches - Slow-cooked pulled pork with BBQ sauce, served on buns.',\n",
    "'Vegetable Stir-Fry - A quick and healthy stir-fry with a variety of vegetables.',\n",
    "'Shrimp Scampi - Shrimp cooked in a garlic butter sauce, served over pasta.',\n",
    "'Margherita Pizza - A classic pizza with tomato, mozzarella, and basil.',\n",
    "'Chicken Caesar Salad - A hearty salad with grilled chicken, romaine lettuce, and Caesar dressing.',\n",
    "'Beef Stroganoff - A creamy beef and mushroom dish served over egg noodles.',\n",
    "'Caprese Salad - A simple salad with tomatoes, mozzarella, and basil.',\n",
    "'Chicken Tikka Masala - A flavorful Indian dish with chicken in a spiced tomato sauce.',\n",
    "'Vegetarian Chili - A hearty chili made with beans, vegetables, and spices.',\n",
    "'Garlic Butter Shrimp - Shrimp cooked in a garlic butter sauce, perfect as an appetizer or main dish.',\n",
    "'Pesto Pasta - Pasta tossed with a fresh basil pesto sauce.',\n",
    "'Chocolate Chip Cookies - Classic cookies with chocolate chips.',\n",
    "'Italian Risotto - Creamy rice dish cooked with broth and Parmesan cheese.',\n",
    "'Japanese Ramen - Noodle soup with broth, meat, and vegetables.',\n",
    "'Mexican Tacos al Pastor - Tacos with marinated pork and pineapple.',\n",
    "'Indian Samosas - Fried pastry filled with spiced potatoes and peas.',\n",
    "'French Coq au Vin - Chicken braised in red wine with mushrooms and onions.',\n",
    "'Greek Spanakopita - Spinach and feta cheese pie in phyllo dough.',\n",
    "'Chinese Kung Pao Chicken - Spicy stir-fry with chicken, peanuts, and vegetables.',\n",
    "'American Mac and Cheese - Baked pasta with a creamy cheese sauce.',\n",
    "'Thai Pad Thai - Stir-fried rice noodles with shrimp, tofu, and peanuts.',\n",
    "'Spanish Gazpacho - Cold tomato soup with vegetables.',\n",
    "'Moroccan Couscous - Steamed couscous with vegetables and spices.',\n",
    "'Lebanese Hummus - Chickpea dip with tahini, garlic, and lemon.',\n",
    "'Korean Kimchi - Fermented cabbage with spices.',\n",
    "'Turkish Baklava - Sweet pastry with layers of nuts and honey.',\n",
    "'Vietnamese Banh Mi - Sandwich with pickled vegetables, meat, and cilantro.',\n",
    "'Brazilian Moqueca - Fish stew with coconut milk and tomatoes.',\n",
    "'Ethiopian Injera - Spongy flatbread served with various stews.',\n",
    "'Russian Borscht - Beet soup with sour cream.',\n",
    "'Caribbean Curry Goat - Goat meat cooked in a spicy curry sauce.',\n",
    "'Middle Eastern Baba Ganoush - Eggplant dip with tahini and garlic.',\n",
    "'Italian Tiramisu - Coffee-flavored dessert with mascarpone cheese.',\n",
    "'Japanese Tempura - Battered and deep-fried seafood and vegetables.',\n",
    "'Mexican Chiles Rellenos - Stuffed and fried chili peppers.',\n",
    "'Indian Paneer Tikka - Grilled paneer cheese with spices.',\n",
    "'French Quiche Lorraine - Savory pie with bacon, cheese, and eggs.',\n",
    "'Greek Gyros - Meat wrapped in pita with tzatziki sauce.',\n",
    "'Chinese Dim Sum - Small steamed or fried dumplings.',\n",
    "'American Apple Pie - Classic dessert with apples and cinnamon.',\n",
    "'Thai Tom Yum Soup - Hot and sour soup with shrimp.',\n",
    "'Spanish Churros - Fried dough pastry with cinnamon sugar.'\n",
    "]"
   ]
  },
  {
   "cell_type": "code",
   "execution_count": 15,
   "id": "afa9fc07-d58f-4c2d-b1e7-2c52751e7eba",
   "metadata": {},
   "outputs": [],
   "source": [
    "import nltk\n",
    "from sklearn.feature_extraction.text import TfidfVectorizer\n",
    "import numpy as np"
   ]
  },
  {
   "cell_type": "code",
   "execution_count": 16,
   "id": "7321a15c-b277-43a8-96ea-3dfba67d6364",
   "metadata": {},
   "outputs": [
    {
     "name": "stderr",
     "output_type": "stream",
     "text": [
      "[nltk_data] Downloading package punkt to\n",
      "[nltk_data]     C:\\Users\\u1102410\\AppData\\Roaming\\nltk_data...\n",
      "[nltk_data]   Package punkt is already up-to-date!\n",
      "[nltk_data] Downloading package punkt_tab to\n",
      "[nltk_data]     C:\\Users\\u1102410\\AppData\\Roaming\\nltk_data...\n",
      "[nltk_data]   Package punkt_tab is already up-to-date!\n",
      "[nltk_data] Downloading package stopwords to\n",
      "[nltk_data]     C:\\Users\\u1102410\\AppData\\Roaming\\nltk_data...\n",
      "[nltk_data]   Package stopwords is already up-to-date!\n"
     ]
    },
    {
     "data": {
      "text/plain": [
       "True"
      ]
     },
     "execution_count": 16,
     "metadata": {},
     "output_type": "execute_result"
    }
   ],
   "source": [
    "nltk.download(\"punkt\")\n",
    "nltk.download(\"punkt_tab\")\n",
    "nltk.download(\"stopwords\")"
   ]
  },
  {
   "cell_type": "code",
   "execution_count": 4,
   "id": "4ce920e7-51b1-480e-9e56-d80d887b748a",
   "metadata": {},
   "outputs": [
    {
     "name": "stdout",
     "output_type": "stream",
     "text": [
      "The tokenized words are: ['French', 'Quiche', 'Lorraine', '-', 'Savory', 'pie', 'with', 'bacon', ',', 'cheese', ',', 'and', 'eggs', '.']\n"
     ]
    }
   ],
   "source": [
    "# Sample tokenization before deleting stop words\n",
    "text = 'French Quiche Lorraine - Savory pie with bacon, cheese, and eggs.'\n",
    "example_words = nltk.word_tokenize(text)\n"
   ]
  },
  {
   "cell_type": "code",
   "execution_count": 17,
   "id": "925be7b3-e471-4c02-b57f-18778eef1c5d",
   "metadata": {},
   "outputs": [],
   "source": [
    "def prepare_text(document: str) ->str :\n",
    "    lower_text = document.lower()\n",
    "    tokenized_text = nltk.word_tokenize(lower_text)\n",
    "   \n",
    "    wo_alphanumeric_text = [word for word in tokenized_text if word.isalnum()]\n",
    "    clean_text = [word for word in wo_alphanumeric_text if word not in nltk.corpus.stopwords.words('english')]\n",
    "\n",
    "    return clean_text"
   ]
  },
  {
   "cell_type": "code",
   "execution_count": null,
   "id": "91a320d4-e207-46c5-8d1c-f79d056caab7",
   "metadata": {},
   "outputs": [],
   "source": []
  },
  {
   "cell_type": "code",
   "execution_count": 18,
   "id": "16da5f9d-69a3-47bc-8bdd-9f5d66f96450",
   "metadata": {},
   "outputs": [],
   "source": [
    "cleaned_docs = [' '.join(prepare_text(doc)) for doc in documents]"
   ]
  },
  {
   "cell_type": "code",
   "execution_count": 19,
   "id": "21a46b43-527f-4397-9103-e3373d7e3269",
   "metadata": {},
   "outputs": [
    {
     "data": {
      "text/plain": [
       "['italian lasagna layers pasta meat sauce cheese baked perfection',\n",
       " 'japanese sushi rolls rice seaweed various fillings like fish avocado cucumber',\n",
       " 'mexican enchiladas tortillas filled meat beans topped sauce cheese',\n",
       " 'indian butter chicken chicken cooked creamy tomato sauce spices',\n",
       " 'french ratatouille vegetable stew eggplant zucchini tomatoes',\n",
       " 'greek moussaka layers eggplant meat sauce béchamel sauce',\n",
       " 'chinese sweet sour pork pork tangy sweet sour sauce',\n",
       " 'american bbq ribs pork ribs slathered bbq sauce',\n",
       " 'thai green curry spicy curry coconut milk green curry paste vegetables',\n",
       " 'spanish paella rice dish seafood chicken saffron',\n",
       " 'moroccan tagine stew meat vegetables spices',\n",
       " 'lebanese falafel balls made chickpeas served pita tahini',\n",
       " 'korean bibimbap mixed rice dish vegetables meat fried egg',\n",
       " 'turkish kebabs grilled skewers meat often served rice bread',\n",
       " 'vietnamese pho noodle soup beef chicken herbs broth',\n",
       " 'brazilian feijoada black bean stew pork beef',\n",
       " 'ethiopian doro wat spicy chicken stew served injera bread',\n",
       " 'russian beef stroganoff beef creamy sauce mushrooms served noodles',\n",
       " 'caribbean jerk chicken chicken marinated spicy jerk seasoning grilled',\n",
       " 'middle eastern shakshuka eggs poached spicy tomato pepper sauce',\n",
       " 'spicy thai basil chicken flavorful chicken basil spicy sauce',\n",
       " 'creamy garlic parmesan pasta rich creamy pasta dish garlic parmesan cheese',\n",
       " 'vegetarian stuffed peppers bell peppers stuffed quinoa black beans veggies',\n",
       " 'classic beef tacos ground beef tacos traditional toppings',\n",
       " 'lemon herb grilled salmon salmon fillets marinated lemon herbs grilled perfection',\n",
       " 'butternut squash soup creamy comforting soup made roasted butternut squash',\n",
       " 'chicken alfredo creamy pasta dish chicken alfredo sauce',\n",
       " 'mango avocado salad refreshing salad mango avocado lime dressing',\n",
       " 'bbq pulled pork sandwiches pulled pork bbq sauce served buns',\n",
       " 'vegetable quick healthy variety vegetables',\n",
       " 'shrimp scampi shrimp cooked garlic butter sauce served pasta',\n",
       " 'margherita pizza classic pizza tomato mozzarella basil',\n",
       " 'chicken caesar salad hearty salad grilled chicken romaine lettuce caesar dressing',\n",
       " 'beef stroganoff creamy beef mushroom dish served egg noodles',\n",
       " 'caprese salad simple salad tomatoes mozzarella basil',\n",
       " 'chicken tikka masala flavorful indian dish chicken spiced tomato sauce',\n",
       " 'vegetarian chili hearty chili made beans vegetables spices',\n",
       " 'garlic butter shrimp shrimp cooked garlic butter sauce perfect appetizer main dish',\n",
       " 'pesto pasta pasta tossed fresh basil pesto sauce',\n",
       " 'chocolate chip cookies classic cookies chocolate chips',\n",
       " 'italian risotto creamy rice dish cooked broth parmesan cheese',\n",
       " 'japanese ramen noodle soup broth meat vegetables',\n",
       " 'mexican tacos al pastor tacos marinated pork pineapple',\n",
       " 'indian samosas fried pastry filled spiced potatoes peas',\n",
       " 'french coq au vin chicken braised red wine mushrooms onions',\n",
       " 'greek spanakopita spinach feta cheese pie phyllo dough',\n",
       " 'chinese kung pao chicken spicy chicken peanuts vegetables',\n",
       " 'american mac cheese baked pasta creamy cheese sauce',\n",
       " 'thai pad thai rice noodles shrimp tofu peanuts',\n",
       " 'spanish gazpacho cold tomato soup vegetables',\n",
       " 'moroccan couscous steamed couscous vegetables spices',\n",
       " 'lebanese hummus chickpea dip tahini garlic lemon',\n",
       " 'korean kimchi fermented cabbage spices',\n",
       " 'turkish baklava sweet pastry layers nuts honey',\n",
       " 'vietnamese banh mi sandwich pickled vegetables meat cilantro',\n",
       " 'brazilian moqueca fish stew coconut milk tomatoes',\n",
       " 'ethiopian injera spongy flatbread served various stews',\n",
       " 'russian borscht beet soup sour cream',\n",
       " 'caribbean curry goat goat meat cooked spicy curry sauce',\n",
       " 'middle eastern baba ganoush eggplant dip tahini garlic',\n",
       " 'italian tiramisu dessert mascarpone cheese',\n",
       " 'japanese tempura battered seafood vegetables',\n",
       " 'mexican chiles rellenos stuffed fried chili peppers',\n",
       " 'indian paneer tikka grilled paneer cheese spices',\n",
       " 'french quiche lorraine savory pie bacon cheese eggs',\n",
       " 'greek gyros meat wrapped pita tzatziki sauce',\n",
       " 'chinese dim sum small steamed fried dumplings',\n",
       " 'american apple pie classic dessert apples cinnamon',\n",
       " 'thai tom yum soup hot sour soup shrimp',\n",
       " 'spanish churros fried dough pastry cinnamon sugar']"
      ]
     },
     "execution_count": 19,
     "metadata": {},
     "output_type": "execute_result"
    }
   ],
   "source": [
    "cleaned_docs"
   ]
  },
  {
   "cell_type": "code",
   "execution_count": 9,
   "id": "916125ba-0477-4ed3-a247-caffea08bdcf",
   "metadata": {},
   "outputs": [
    {
     "name": "stdout",
     "output_type": "stream",
     "text": [
      "Requirement already satisfied: rank_bm25 in c:\\users\\u1102410\\python\\lib\\site-packages (0.2.2)\n",
      "Requirement already satisfied: numpy in c:\\users\\u1102410\\python\\lib\\site-packages (from rank_bm25) (2.2.3)\n"
     ]
    },
    {
     "name": "stderr",
     "output_type": "stream",
     "text": [
      "\n",
      "[notice] A new release of pip is available: 24.3.1 -> 25.0.1\n",
      "[notice] To update, run: python.exe -m pip install --upgrade pip\n"
     ]
    }
   ],
   "source": [
    "# library for probalistic model\n",
    "!pip install rank_bm25"
   ]
  },
  {
   "cell_type": "code",
   "execution_count": 22,
   "id": "bdf97ef8-a13e-4444-acdd-077f168e86aa",
   "metadata": {},
   "outputs": [
    {
     "name": "stdout",
     "output_type": "stream",
     "text": [
      "[['italian', 'lasagna', 'layers', 'pasta', 'meat', 'sauce', 'cheese', 'baked', 'perfection'], ['japanese', 'sushi', 'rolls', 'rice', 'seaweed', 'various', 'fillings', 'like', 'fish', 'avocado', 'cucumber'], ['mexican', 'enchiladas', 'tortillas', 'filled', 'meat', 'beans', 'topped', 'sauce', 'cheese'], ['indian', 'butter', 'chicken', 'chicken', 'cooked', 'creamy', 'tomato', 'sauce', 'spices'], ['french', 'ratatouille', 'vegetable', 'stew', 'eggplant', 'zucchini', 'tomatoes'], ['greek', 'moussaka', 'layers', 'eggplant', 'meat', 'sauce', 'béchamel', 'sauce'], ['chinese', 'sweet', 'sour', 'pork', 'pork', 'tangy', 'sweet', 'sour', 'sauce'], ['american', 'bbq', 'ribs', 'pork', 'ribs', 'slathered', 'bbq', 'sauce'], ['thai', 'green', 'curry', 'spicy', 'curry', 'coconut', 'milk', 'green', 'curry', 'paste', 'vegetables'], ['spanish', 'paella', 'rice', 'dish', 'seafood', 'chicken', 'saffron'], ['moroccan', 'tagine', 'stew', 'meat', 'vegetables', 'spices'], ['lebanese', 'falafel', 'balls', 'made', 'chickpeas', 'served', 'pita', 'tahini'], ['korean', 'bibimbap', 'mixed', 'rice', 'dish', 'vegetables', 'meat', 'fried', 'egg'], ['turkish', 'kebabs', 'grilled', 'skewers', 'meat', 'often', 'served', 'rice', 'bread'], ['vietnamese', 'pho', 'noodle', 'soup', 'beef', 'chicken', 'herbs', 'broth'], ['brazilian', 'feijoada', 'black', 'bean', 'stew', 'pork', 'beef'], ['ethiopian', 'doro', 'wat', 'spicy', 'chicken', 'stew', 'served', 'injera', 'bread'], ['russian', 'beef', 'stroganoff', 'beef', 'creamy', 'sauce', 'mushrooms', 'served', 'noodles'], ['caribbean', 'jerk', 'chicken', 'chicken', 'marinated', 'spicy', 'jerk', 'seasoning', 'grilled'], ['middle', 'eastern', 'shakshuka', 'eggs', 'poached', 'spicy', 'tomato', 'pepper', 'sauce'], ['spicy', 'thai', 'basil', 'chicken', 'flavorful', 'chicken', 'basil', 'spicy', 'sauce'], ['creamy', 'garlic', 'parmesan', 'pasta', 'rich', 'creamy', 'pasta', 'dish', 'garlic', 'parmesan', 'cheese'], ['vegetarian', 'stuffed', 'peppers', 'bell', 'peppers', 'stuffed', 'quinoa', 'black', 'beans', 'veggies'], ['classic', 'beef', 'tacos', 'ground', 'beef', 'tacos', 'traditional', 'toppings'], ['lemon', 'herb', 'grilled', 'salmon', 'salmon', 'fillets', 'marinated', 'lemon', 'herbs', 'grilled', 'perfection'], ['butternut', 'squash', 'soup', 'creamy', 'comforting', 'soup', 'made', 'roasted', 'butternut', 'squash'], ['chicken', 'alfredo', 'creamy', 'pasta', 'dish', 'chicken', 'alfredo', 'sauce'], ['mango', 'avocado', 'salad', 'refreshing', 'salad', 'mango', 'avocado', 'lime', 'dressing'], ['bbq', 'pulled', 'pork', 'sandwiches', 'pulled', 'pork', 'bbq', 'sauce', 'served', 'buns'], ['vegetable', 'quick', 'healthy', 'variety', 'vegetables'], ['shrimp', 'scampi', 'shrimp', 'cooked', 'garlic', 'butter', 'sauce', 'served', 'pasta'], ['margherita', 'pizza', 'classic', 'pizza', 'tomato', 'mozzarella', 'basil'], ['chicken', 'caesar', 'salad', 'hearty', 'salad', 'grilled', 'chicken', 'romaine', 'lettuce', 'caesar', 'dressing'], ['beef', 'stroganoff', 'creamy', 'beef', 'mushroom', 'dish', 'served', 'egg', 'noodles'], ['caprese', 'salad', 'simple', 'salad', 'tomatoes', 'mozzarella', 'basil'], ['chicken', 'tikka', 'masala', 'flavorful', 'indian', 'dish', 'chicken', 'spiced', 'tomato', 'sauce'], ['vegetarian', 'chili', 'hearty', 'chili', 'made', 'beans', 'vegetables', 'spices'], ['garlic', 'butter', 'shrimp', 'shrimp', 'cooked', 'garlic', 'butter', 'sauce', 'perfect', 'appetizer', 'main', 'dish'], ['pesto', 'pasta', 'pasta', 'tossed', 'fresh', 'basil', 'pesto', 'sauce'], ['chocolate', 'chip', 'cookies', 'classic', 'cookies', 'chocolate', 'chips'], ['italian', 'risotto', 'creamy', 'rice', 'dish', 'cooked', 'broth', 'parmesan', 'cheese'], ['japanese', 'ramen', 'noodle', 'soup', 'broth', 'meat', 'vegetables'], ['mexican', 'tacos', 'al', 'pastor', 'tacos', 'marinated', 'pork', 'pineapple'], ['indian', 'samosas', 'fried', 'pastry', 'filled', 'spiced', 'potatoes', 'peas'], ['french', 'coq', 'au', 'vin', 'chicken', 'braised', 'red', 'wine', 'mushrooms', 'onions'], ['greek', 'spanakopita', 'spinach', 'feta', 'cheese', 'pie', 'phyllo', 'dough'], ['chinese', 'kung', 'pao', 'chicken', 'spicy', 'chicken', 'peanuts', 'vegetables'], ['american', 'mac', 'cheese', 'baked', 'pasta', 'creamy', 'cheese', 'sauce'], ['thai', 'pad', 'thai', 'rice', 'noodles', 'shrimp', 'tofu', 'peanuts'], ['spanish', 'gazpacho', 'cold', 'tomato', 'soup', 'vegetables'], ['moroccan', 'couscous', 'steamed', 'couscous', 'vegetables', 'spices'], ['lebanese', 'hummus', 'chickpea', 'dip', 'tahini', 'garlic', 'lemon'], ['korean', 'kimchi', 'fermented', 'cabbage', 'spices'], ['turkish', 'baklava', 'sweet', 'pastry', 'layers', 'nuts', 'honey'], ['vietnamese', 'banh', 'mi', 'sandwich', 'pickled', 'vegetables', 'meat', 'cilantro'], ['brazilian', 'moqueca', 'fish', 'stew', 'coconut', 'milk', 'tomatoes'], ['ethiopian', 'injera', 'spongy', 'flatbread', 'served', 'various', 'stews'], ['russian', 'borscht', 'beet', 'soup', 'sour', 'cream'], ['caribbean', 'curry', 'goat', 'goat', 'meat', 'cooked', 'spicy', 'curry', 'sauce'], ['middle', 'eastern', 'baba', 'ganoush', 'eggplant', 'dip', 'tahini', 'garlic'], ['italian', 'tiramisu', 'dessert', 'mascarpone', 'cheese'], ['japanese', 'tempura', 'battered', 'seafood', 'vegetables'], ['mexican', 'chiles', 'rellenos', 'stuffed', 'fried', 'chili', 'peppers'], ['indian', 'paneer', 'tikka', 'grilled', 'paneer', 'cheese', 'spices'], ['french', 'quiche', 'lorraine', 'savory', 'pie', 'bacon', 'cheese', 'eggs'], ['greek', 'gyros', 'meat', 'wrapped', 'pita', 'tzatziki', 'sauce'], ['chinese', 'dim', 'sum', 'small', 'steamed', 'fried', 'dumplings'], ['american', 'apple', 'pie', 'classic', 'dessert', 'apples', 'cinnamon'], ['thai', 'tom', 'yum', 'soup', 'hot', 'sour', 'soup', 'shrimp'], ['spanish', 'churros', 'fried', 'dough', 'pastry', 'cinnamon', 'sugar']]\n"
     ]
    }
   ],
   "source": [
    "from rank_bm25 import BM25Okapi\n",
    "tokenized_docs = [prepare_text(doc) for doc in documents]\n",
    "print(tokenized_docs)\n",
    "model = BM25Okapi(tokenized_docs)"
   ]
  },
  {
   "cell_type": "code",
   "execution_count": 23,
   "id": "424cc927-e1ba-41ec-906e-43fdfc8ff5b2",
   "metadata": {},
   "outputs": [],
   "source": [
    "\n",
    "def search_25(query: str, model: BM25Okapi ):\n",
    "    tokenized_query = prepare_text(query)\n",
    "    \n",
    "\n",
    "    docs_scored = model.get_scores(tokenized_query)\n",
    "\n",
    "    return docs_scored"
   ]
  },
  {
   "cell_type": "code",
   "execution_count": 24,
   "id": "7c35850d-d3c9-4b44-8dbc-058f69566abe",
   "metadata": {},
   "outputs": [],
   "source": [
    "query = \"fried pastry\"\n",
    "\n",
    "results = search_25(query, model)"
   ]
  },
  {
   "cell_type": "code",
   "execution_count": 25,
   "id": "3aec90f2-1cfe-4ee6-8d00-10748a317596",
   "metadata": {},
   "outputs": [
    {
     "name": "stdout",
     "output_type": "stream",
     "text": [
      "Score: 5.795 => Document: Spanish Churros - Fried dough pastry with cinnamon sugar.\n",
      "Score: 5.471 => Document: Indian Samosas - Fried pastry filled with spiced potatoes and peas.\n",
      "Score: 3.154 => Document: Turkish Baklava - Sweet pastry with layers of nuts and honey.\n",
      "Score: 2.640 => Document: Mexican Chiles Rellenos - Stuffed and fried chili peppers.\n",
      "Score: 2.640 => Document: Chinese Dim Sum - Small steamed or fried dumplings.\n",
      "Score: 2.361 => Document: Korean Bibimbap - A mixed rice dish with vegetables, meat, and a fried egg.\n",
      "Score: 0.000 => Document: French Quiche Lorraine - Savory pie with bacon, cheese, and eggs.\n",
      "Score: 0.000 => Document: Greek Gyros - Meat wrapped in pita with tzatziki sauce.\n",
      "Score: 0.000 => Document: American Apple Pie - Classic dessert with apples and cinnamon.\n",
      "Score: 0.000 => Document: Thai Tom Yum Soup - Hot and sour soup with shrimp.\n",
      "Score: 0.000 => Document: Middle Eastern Baba Ganoush - Eggplant dip with tahini and garlic.\n",
      "Score: 0.000 => Document: Caribbean Curry Goat - Goat meat cooked in a spicy curry sauce.\n",
      "Score: 0.000 => Document: Russian Borscht - Beet soup with sour cream.\n",
      "Score: 0.000 => Document: Japanese Tempura - Battered and deep-fried seafood and vegetables.\n",
      "Score: 0.000 => Document: Ethiopian Injera - Spongy flatbread served with various stews.\n",
      "Score: 0.000 => Document: Brazilian Moqueca - Fish stew with coconut milk and tomatoes.\n",
      "Score: 0.000 => Document: Vietnamese Banh Mi - Sandwich with pickled vegetables, meat, and cilantro.\n",
      "Score: 0.000 => Document: Korean Kimchi - Fermented cabbage with spices.\n",
      "Score: 0.000 => Document: Lebanese Hummus - Chickpea dip with tahini, garlic, and lemon.\n",
      "Score: 0.000 => Document: Moroccan Couscous - Steamed couscous with vegetables and spices.\n",
      "Score: 0.000 => Document: Spanish Gazpacho - Cold tomato soup with vegetables.\n",
      "Score: 0.000 => Document: Indian Paneer Tikka - Grilled paneer cheese with spices.\n",
      "Score: 0.000 => Document: Thai Pad Thai - Stir-fried rice noodles with shrimp, tofu, and peanuts.\n",
      "Score: 0.000 => Document: American Mac and Cheese - Baked pasta with a creamy cheese sauce.\n",
      "Score: 0.000 => Document: Greek Spanakopita - Spinach and feta cheese pie in phyllo dough.\n",
      "Score: 0.000 => Document: Chinese Kung Pao Chicken - Spicy stir-fry with chicken, peanuts, and vegetables.\n",
      "Score: 0.000 => Document: French Coq au Vin - Chicken braised in red wine with mushrooms and onions.\n",
      "Score: 0.000 => Document: Mexican Tacos al Pastor - Tacos with marinated pork and pineapple.\n",
      "Score: 0.000 => Document: Japanese Ramen - Noodle soup with broth, meat, and vegetables.\n",
      "Score: 0.000 => Document: Italian Risotto - Creamy rice dish cooked with broth and Parmesan cheese.\n",
      "Score: 0.000 => Document: Chocolate Chip Cookies - Classic cookies with chocolate chips.\n",
      "Score: 0.000 => Document: Pesto Pasta - Pasta tossed with a fresh basil pesto sauce.\n",
      "Score: 0.000 => Document: Garlic Butter Shrimp - Shrimp cooked in a garlic butter sauce, perfect as an appetizer or main dish.\n",
      "Score: 0.000 => Document: Vegetarian Chili - A hearty chili made with beans, vegetables, and spices.\n",
      "Score: 0.000 => Document: Chicken Tikka Masala - A flavorful Indian dish with chicken in a spiced tomato sauce.\n",
      "Score: 0.000 => Document: Caprese Salad - A simple salad with tomatoes, mozzarella, and basil.\n",
      "Score: 0.000 => Document: Beef Stroganoff - A creamy beef and mushroom dish served over egg noodles.\n",
      "Score: 0.000 => Document: Italian Tiramisu - Coffee-flavored dessert with mascarpone cheese.\n",
      "Score: 0.000 => Document: Chicken Caesar Salad - A hearty salad with grilled chicken, romaine lettuce, and Caesar dressing.\n",
      "Score: 0.000 => Document: Margherita Pizza - A classic pizza with tomato, mozzarella, and basil.\n",
      "Score: 0.000 => Document: Vegetable Stir-Fry - A quick and healthy stir-fry with a variety of vegetables.\n",
      "Score: 0.000 => Document: Shrimp Scampi - Shrimp cooked in a garlic butter sauce, served over pasta.\n",
      "Score: 0.000 => Document: Mango Avocado Salad - A refreshing salad with mango, avocado, and a lime dressing.\n",
      "Score: 0.000 => Document: Chicken Alfredo - A creamy pasta dish with chicken and Alfredo sauce.\n",
      "Score: 0.000 => Document: Butternut Squash Soup - A creamy and comforting soup made with roasted butternut squash.\n",
      "Score: 0.000 => Document: BBQ Pulled Pork Sandwiches - Slow-cooked pulled pork with BBQ sauce, served on buns.\n",
      "Score: 0.000 => Document: Classic Beef Tacos - Ground beef tacos with all the traditional toppings.\n",
      "Score: 0.000 => Document: Vegetarian Stuffed Peppers - Bell peppers stuffed with quinoa, black beans, and veggies.\n",
      "Score: 0.000 => Document: Creamy Garlic Parmesan Pasta - A rich and creamy pasta dish with garlic and Parmesan cheese.\n",
      "Score: 0.000 => Document: Spicy Thai Basil Chicken - A flavorful stir-fry with chicken, basil, and a spicy sauce.\n",
      "Score: 0.000 => Document: Middle Eastern Shakshuka - Eggs poached in a spicy tomato and pepper sauce.\n",
      "Score: 0.000 => Document: Caribbean Jerk Chicken - Chicken marinated in a spicy jerk seasoning and grilled.\n",
      "Score: 0.000 => Document: Russian Beef Stroganoff - Beef in a creamy sauce with mushrooms, served over noodles.\n",
      "Score: 0.000 => Document: Lemon Herb Grilled Salmon - Salmon fillets marinated in lemon and herbs, then grilled to perfection.\n",
      "Score: 0.000 => Document: Ethiopian Doro Wat - A spicy chicken stew served with injera bread.\n",
      "Score: 0.000 => Document: Brazilian Feijoada - A black bean stew with pork and beef.\n",
      "Score: 0.000 => Document: Vietnamese Pho - A noodle soup with beef or chicken, herbs, and broth.\n",
      "Score: 0.000 => Document: Turkish Kebabs - Grilled skewers of meat, often served with rice or bread.\n",
      "Score: 0.000 => Document: Lebanese Falafel - Deep-fried balls made from chickpeas, served with pita and tahini.\n",
      "Score: 0.000 => Document: Moroccan Tagine - A slow-cooked stew with meat, vegetables, and spices.\n",
      "Score: 0.000 => Document: Spanish Paella - A rice dish with seafood, chicken, and saffron.\n",
      "Score: 0.000 => Document: Thai Green Curry - A spicy curry with coconut milk, green curry paste, and vegetables.\n",
      "Score: 0.000 => Document: American BBQ Ribs - Pork ribs slow-cooked and slathered in BBQ sauce.\n",
      "Score: 0.000 => Document: Chinese Sweet and Sour Pork - Pork stir-fried with a tangy sweet and sour sauce.\n",
      "Score: 0.000 => Document: Greek Moussaka - Layers of eggplant, meat sauce, and béchamel sauce.\n",
      "Score: 0.000 => Document: French Ratatouille - A vegetable stew with eggplant, zucchini, and tomatoes.\n",
      "Score: 0.000 => Document: Indian Butter Chicken - Chicken cooked in a creamy tomato sauce with spices.\n",
      "Score: 0.000 => Document: Mexican Enchiladas - Tortillas filled with meat or beans, topped with sauce and cheese.\n",
      "Score: 0.000 => Document: Japanese Sushi Rolls - Rice, seaweed, and various fillings like fish, avocado, and cucumber.\n",
      "Score: 0.000 => Document: Italian Lasagna - Layers of pasta, meat sauce, and cheese baked to perfection.\n"
     ]
    }
   ],
   "source": [
    "sorted_results = np.argsort(results)[::-1]\n",
    "\n",
    "for idx in sorted_results:\n",
    "  print(\"Score: {:.3f} => Document: {}\".format(results[idx], documents[idx]))"
   ]
  },
  {
   "cell_type": "code",
   "execution_count": null,
   "id": "49c191a4-6b88-4e15-b242-228701304471",
   "metadata": {},
   "outputs": [],
   "source": []
  }
 ],
 "metadata": {
  "kernelspec": {
   "display_name": "Python 3 (ipykernel)",
   "language": "python",
   "name": "python3"
  },
  "language_info": {
   "codemirror_mode": {
    "name": "ipython",
    "version": 3
   },
   "file_extension": ".py",
   "mimetype": "text/x-python",
   "name": "python",
   "nbconvert_exporter": "python",
   "pygments_lexer": "ipython3",
   "version": "3.13.1"
  }
 },
 "nbformat": 4,
 "nbformat_minor": 5
}
